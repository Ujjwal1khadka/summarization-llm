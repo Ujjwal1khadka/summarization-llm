{
 "cells": [
  {
   "cell_type": "markdown",
   "metadata": {},
   "source": [
    "## Dependencies for OpenAI 🦜️Langchain 🏓Pinecone"
   ]
  },
  {
   "cell_type": "code",
   "execution_count": 66,
   "metadata": {},
   "outputs": [],
   "source": [
    "import os\n",
    "import time\n",
    "import dotenv\n",
    "import openai\n",
    "import getpass\n",
    "import textwrap\n",
    "import tempfile\n",
    "import tiktoken\n",
    "\n",
    "from openai import OpenAI\n",
    "from docx import Document\n",
    "from dotenv import load_dotenv\n",
    "from tqdm.autonotebook import tqdm\n",
    "from langchain_openai import ChatOpenAI\n",
    "from typing import List, Tuple, Optional\n",
    "from langchain.prompts import PromptTemplate\n",
    "from pinecone import Pinecone, ServerlessSpec\n",
    "from langchain_openai import OpenAIEmbeddings\n",
    "from langchain_pinecone import PineconeVectorStore\n",
    "from langchain.chains.mapreduce import MapReduceChain\n",
    "from langchain import OpenAI, PromptTemplate, LLMChain\n",
    "from langchain.text_splitter import CharacterTextSplitter\n",
    "from langchain.chains.summarize import load_summarize_chain\n",
    "from langchain_community.document_loaders import PyPDFLoader\n",
    "from langchain_community.document_loaders import WebBaseLoader\n",
    "from langchain_community.document_loaders import DirectoryLoader\n",
    "\n",
    "#os.environ['USER_AGENT'] = 'myagent'"
   ]
  },
  {
   "cell_type": "markdown",
   "metadata": {},
   "source": [
    "## Keys"
   ]
  },
  {
   "cell_type": "code",
   "execution_count": 67,
   "metadata": {},
   "outputs": [],
   "source": [
    "\n",
    "load_dotenv()\n",
    "# Fetching the API keys from environment variables\n",
    "openai_api_key = os.getenv('OPENAI_API_KEY')\n",
    "pinecone_api_key = os.getenv('PINECONE_API_KEY')\n",
    "\n",
    "\n",
    "# Setting up the environmental variables\n",
    "if openai_api_key:\n",
    "    os.environ['OPENAI_API_KEY'] = openai_api_key\n",
    "if pinecone_api_key:\n",
    "    os.environ['PINECONE_API_KEY'] = pinecone_api_key  \n",
    "\n",
    "#Verifications that the keys are loaded\n",
    "# print(f\"OpenAI API Key: {os.environ.get('OPENAI_API_KEY')}\")\n",
    "# print(f\"Pinecone API Key: {os.environ.get('PINECONE_API_KEY')}\")\n",
    "\n"
   ]
  },
  {
   "cell_type": "markdown",
   "metadata": {},
   "source": [
    "## Vector Embeddings "
   ]
  },
  {
   "cell_type": "code",
   "execution_count": 68,
   "metadata": {},
   "outputs": [
    {
     "data": {
      "text/plain": [
       "OpenAIEmbeddings(client=<openai.resources.embeddings.Embeddings object at 0x12dd51d30>, async_client=<openai.resources.embeddings.AsyncEmbeddings object at 0x12ddde5d0>, model='text-embedding-ada-002', dimensions=None, deployment='text-embedding-ada-002', openai_api_version=None, openai_api_base=None, openai_api_type=None, openai_proxy=None, embedding_ctx_length=8191, openai_api_key=SecretStr('**********'), openai_organization=None, allowed_special=None, disallowed_special=None, chunk_size=1000, max_retries=2, request_timeout=None, headers=None, tiktoken_enabled=True, tiktoken_model_name=None, show_progress_bar=False, model_kwargs={}, skip_empty=False, default_headers=None, default_query=None, retry_min_seconds=4, retry_max_seconds=20, http_client=None, http_async_client=None, check_embedding_ctx_length=True)"
      ]
     },
     "execution_count": 68,
     "metadata": {},
     "output_type": "execute_result"
    }
   ],
   "source": [
    "os.environ[\"HUGGINGFACEHUB_API_TOKEN\"]=\"HUGGINGFACEHUB_API_TOKEN\"\n",
    "embeddings = OpenAIEmbeddings(\n",
    "    model=\"text-embedding-ada-002\",  #response time is 9s  #infloat/e5-base-V2 has 3.53sec response time.\n",
    ")\n",
    "embeddings"
   ]
  },
  {
   "cell_type": "markdown",
   "metadata": {},
   "source": [
    "## Pinecone Set Up"
   ]
  },
  {
   "cell_type": "code",
   "execution_count": 69,
   "metadata": {},
   "outputs": [],
   "source": [
    "pc = Pinecone(api_key=pinecone_api_key)\n",
    "\n",
    "index_name = \"noveltyai\"  \n",
    "\n",
    "existing_indexes = [index_info[\"name\"] for index_info in pc.list_indexes()]\n",
    "\n",
    "if index_name not in existing_indexes:\n",
    "    pc.create_index(\n",
    "        name=index_name,\n",
    "        dimension=1536,\n",
    "        metric=\"cosine\",\n",
    "        spec=ServerlessSpec(cloud=\"aws\", region=\"us-east-1\"),\n",
    "    )\n",
    "    while not pc.describe_index(index_name).status[\"ready\"]:\n",
    "        time.sleep(1)\n",
    "\n",
    "index = pc.Index(index_name)\n",
    "#pc.list_indexes()"
   ]
  },
  {
   "cell_type": "markdown",
   "metadata": {},
   "source": [
    "## Files Loader"
   ]
  },
  {
   "cell_type": "code",
   "execution_count": 86,
   "metadata": {},
   "outputs": [],
   "source": [
    "directory = '/Users/user/Downloads/summarizer/directory'\n",
    "def load_documents(directory):\n",
    "    loader = DirectoryLoader(directory)\n",
    "    documents = loader.load()\n",
    "    return documents\n",
    "\n",
    "documents = load_documents(directory)"
   ]
  },
  {
   "cell_type": "markdown",
   "metadata": {},
   "source": [
    "## Text splitter (Chunks)"
   ]
  },
  {
   "cell_type": "code",
   "execution_count": 88,
   "metadata": {},
   "outputs": [],
   "source": [
    "from langchain.text_splitter import RecursiveCharacterTextSplitter\n",
    "text_splitter = RecursiveCharacterTextSplitter(\n",
    "    chunk_size=500,\n",
    "    chunk_overlap=50\n",
    ")\n",
    "text = text_splitter.split_documents(documents)"
   ]
  },
  {
   "cell_type": "markdown",
   "metadata": {},
   "source": [
    "## Pinecone Initializations"
   ]
  },
  {
   "cell_type": "code",
   "execution_count": 89,
   "metadata": {},
   "outputs": [],
   "source": [
    "embeddings = OpenAIEmbeddings(openai_api_key=openai_api_key)\n",
    "vectorstore = PineconeVectorStore.from_documents(text, embeddings, index_name=index_name)"
   ]
  },
  {
   "cell_type": "markdown",
   "metadata": {},
   "source": [
    "## OpenAI Initializations"
   ]
  },
  {
   "cell_type": "code",
   "execution_count": 95,
   "metadata": {},
   "outputs": [],
   "source": [
    "# Initialize the ChatOpenAI module and load the summarize chain\n",
    "llm = ChatOpenAI(temperature=0, openai_api_key=openai_api_key)\n",
    "#chain = load_summarize_chain(llm, chain_type=\"stuff\")\n",
    "chain = load_summarize_chain(llm, chain_type=\"map_reduce\")"
   ]
  },
  {
   "cell_type": "markdown",
   "metadata": {},
   "source": [
    "## Similarity search"
   ]
  },
  {
   "cell_type": "code",
   "execution_count": 98,
   "metadata": {},
   "outputs": [
    {
     "name": "stderr",
     "output_type": "stream",
     "text": [
      "/Users/user/.pyenv/versions/3.12.3/lib/python3.12/site-packages/langchain_openai/chat_models/base.py:357: UserWarning: Unexpected type for token usage: <class 'NoneType'>\n",
      "  warnings.warn(f\"Unexpected type for token usage: {type(new_usage)}\")\n"
     ]
    }
   ],
   "source": [
    "# Perform a similarity search on the vectorstore and summarize the relevant sections\n",
    "search = vectorstore.similarity_search(\" \")\n",
    "summary = chain.run(input_documents=search, question=\"Write a concise summary within 250 words.\", summarize_recursively = True)"
   ]
  },
  {
   "cell_type": "markdown",
   "metadata": {},
   "source": [
    "## Summary"
   ]
  },
  {
   "cell_type": "code",
   "execution_count": 99,
   "metadata": {},
   "outputs": [
    {
     "name": "stdout",
     "output_type": "stream",
     "text": [
      "The system allows for the uploading, downloading, renaming, and viewing of files. Client ID cards can be viewed in the ID tab if enabled. Clients are initially marked as \"Submitted\" and will only be charged once approved. Dependents can be added to primary clients. Client details can be viewed by clicking on the + sign, showing membership, billing, and cases information. Groups or companies can be set up in the Group tab. Client Ellipsis functions allow for editing profile information, viewing membership status, updating billing details, and uploading files.\n"
     ]
    }
   ],
   "source": [
    "print(summary)"
   ]
  },
  {
   "cell_type": "markdown",
   "metadata": {},
   "source": [
    "## Recursive Summary"
   ]
  },
  {
   "cell_type": "code",
   "execution_count": 116,
   "metadata": {},
   "outputs": [
    {
     "name": "stderr",
     "output_type": "stream",
     "text": [
      "/Users/user/.pyenv/versions/3.12.3/lib/python3.12/site-packages/langchain_openai/chat_models/base.py:357: UserWarning: Unexpected type for token usage: <class 'NoneType'>\n",
      "  warnings.warn(f\"Unexpected type for token usage: {type(new_usage)}\")\n"
     ]
    },
    {
     "name": "stdout",
     "output_type": "stream",
     "text": [
      "The system allows for the uploading, downloading, renaming, and viewing of files. Client ID cards can be viewed in the ID tab if enabled. Clients are initially marked as \"Submitted\" and will only be charged once approved. Dependents can be added to primary clients, who are individuals connected through family ties or association. Client details, memberships, billing information, and recent cases can be viewed in the system. Groups or companies can be set up by filling out an online form with primary and dependent client types. Client Ellipsis functions allow for editing profile information, viewing membership status, updating billing details, and uploading files for specific clients.\n"
     ]
    }
   ],
   "source": [
    "summary = chain.run(input_documents=search, detail=1, question=\"Summarize the key details of the Admin and Client portal of Vitafy Healthcare system in a paragraph.\", summarize_recursively = True)\n",
    "print(summary)"
   ]
  },
  {
   "cell_type": "markdown",
   "metadata": {},
   "source": [
    "## Tracking token & cost usage \n"
   ]
  },
  {
   "cell_type": "code",
   "execution_count": 109,
   "metadata": {},
   "outputs": [
    {
     "name": "stderr",
     "output_type": "stream",
     "text": [
      "/Users/user/.pyenv/versions/3.12.3/lib/python3.12/site-packages/langchain_openai/chat_models/base.py:357: UserWarning: Unexpected type for token usage: <class 'NoneType'>\n",
      "  warnings.warn(f\"Unexpected type for token usage: {type(new_usage)}\")\n"
     ]
    },
    {
     "name": "stdout",
     "output_type": "stream",
     "text": [
      "Clients can upload, download, rename, and view files. Client ID cards can be viewed in the ID tab if enabled. Clients are initially marked as \"Submitted\" and will only be charged once approved. Dependents can be added to primary clients. Client details can be viewed by clicking on the + sign. The billing section displays recent transactions. The Cases section shows recent cases associated with the client. Instructions are provided on setting up a group or company in the system. Client Ellipsis functions allow for editing profile information and managing membership status and billing details.\n",
      "Tokens Used: 1007\n",
      "\tPrompt Tokens: 685\n",
      "\tCompletion Tokens: 322\n",
      "Successful Requests: 5\n",
      "Total Cost (USD): $0.0008255000000000001\n"
     ]
    }
   ],
   "source": [
    "from langchain_community.callbacks import get_openai_callback\n",
    "\n",
    "with get_openai_callback() as cb:\n",
    "    summary = chain.run(input_documents=search, detail=1, question=\"Summarize the key details of the Admin and Client portal of Vitafy Healthcare system in a paragraph.\", summarize_recursively = True)\n",
    "    print(summary)  \n",
    "print(cb)    "
   ]
  },
  {
   "cell_type": "code",
   "execution_count": null,
   "metadata": {},
   "outputs": [],
   "source": []
  },
  {
   "cell_type": "code",
   "execution_count": null,
   "metadata": {},
   "outputs": [],
   "source": []
  },
  {
   "cell_type": "code",
   "execution_count": null,
   "metadata": {},
   "outputs": [],
   "source": []
  },
  {
   "cell_type": "code",
   "execution_count": null,
   "metadata": {},
   "outputs": [],
   "source": []
  },
  {
   "cell_type": "markdown",
   "metadata": {},
   "source": [
    "## For Very Longer Documents"
   ]
  },
  {
   "cell_type": "code",
   "execution_count": 114,
   "metadata": {},
   "outputs": [],
   "source": [
    "# Function to read PDF, DOCX, and TXT files from a specified directory\n",
    "def load_documents_from_directory(directory: str) -> str:\n",
    "    all_text = \"\"\n",
    "    \n",
    "    for filename in os.listdir(directory):\n",
    "        file_path = os.path.join(directory, filename)\n",
    "        \n",
    "        if filename.endswith(\".txt\"):\n",
    "            # Read .txt files\n",
    "            with open(file_path, \"r\", encoding=\"utf-8\") as file:\n",
    "                all_text += file.read() + \"\\n\\n\"\n",
    "        \n",
    "        elif filename.endswith(\".pdf\"):\n",
    "            # Read .pdf files using PyPDFLoader\n",
    "            loader = PyPDFLoader(file_path)\n",
    "            pdf_pages = loader.load_and_split()\n",
    "            pdf_text = \"\\n\\n\".join(page.page_content for page in pdf_pages)\n",
    "            all_text += pdf_text + \"\\n\\n\"\n",
    "        \n",
    "        elif filename.endswith(\".docx\"):\n",
    "            # Read .docx files using python-docx\n",
    "            doc = Document(file_path)\n",
    "            docx_text = \"\\n\\n\".join([para.text for para in doc.paragraphs if para.text.strip()])\n",
    "            all_text += docx_text + \"\\n\\n\"\n",
    "    \n",
    "    return all_text\n",
    "\n",
    "directory_path = \"/Users/user/Downloads/summarizer/directory\"  \n",
    "text = load_documents_from_directory(directory_path)\n"
   ]
  },
  {
   "cell_type": "code",
   "execution_count": 115,
   "metadata": {},
   "outputs": [
    {
     "data": {
      "text/plain": [
       "2379"
      ]
     },
     "execution_count": 115,
     "metadata": {},
     "output_type": "execute_result"
    }
   ],
   "source": [
    "# load encoding and check the length of dataset\n",
    "encoding = tiktoken.encoding_for_model('gpt-4-turbo')\n",
    "len(encoding.encode(text))"
   ]
  },
  {
   "cell_type": "markdown",
   "metadata": {},
   "source": [
    "## We'll define a simple utility to wrap calls to the OpenAI API"
   ]
  },
  {
   "cell_type": "code",
   "execution_count": 105,
   "metadata": {},
   "outputs": [],
   "source": [
    "def get_chat_completion(messages, model='gpt-4-turbo'):\n",
    "    response = openai.chat.completions.create(\n",
    "        model=model,\n",
    "        messages=messages,\n",
    "        temperature=0,\n",
    "    )\n",
    "    return response.choices[0].message.content\n"
   ]
  },
  {
   "cell_type": "markdown",
   "metadata": {},
   "source": [
    "## Next, we'll define some utilities to chunk a large document into smaller pieces"
   ]
  },
  {
   "cell_type": "code",
   "execution_count": 76,
   "metadata": {},
   "outputs": [],
   "source": [
    "def tokenize(text: str) -> List[str]:\n",
    "    encoding = tiktoken.encoding_for_model('gpt-4-turbo')\n",
    "    return encoding.encode(text)\n",
    "\n",
    "\n",
    "# This function chunks a text into smaller pieces based on a maximum token count and a delimiter.\n",
    "def chunk_on_delimiter(input_string: str,\n",
    "                        max_tokens: int, delimiter: str) -> List[str]:\n",
    "    chunks = input_string.split(delimiter)\n",
    "    combined_chunks, _, dropped_chunk_count = combine_chunks_with_no_minimum(\n",
    "        chunks, max_tokens, chunk_delimiter=delimiter, add_ellipsis_for_overflow=True\n",
    "    )\n",
    "    if dropped_chunk_count > 0:\n",
    "        print(f\"warning: {dropped_chunk_count} chunks were dropped due to overflow\")\n",
    "    combined_chunks = [f\"{chunk}{delimiter}\" for chunk in combined_chunks]\n",
    "    return combined_chunks\n",
    "\n",
    "\n",
    "# This function combines text chunks into larger blocks without exceeding a specified token count. It returns the combined text blocks, their original indices, and the count of chunks dropped due to overflow.\n",
    "def combine_chunks_with_no_minimum(\n",
    "        chunks: List[str],\n",
    "        max_tokens: int,\n",
    "        chunk_delimiter=\"\\n\\n\",\n",
    "        header: Optional[str] = None,\n",
    "        add_ellipsis_for_overflow=False,\n",
    ") -> Tuple[List[str], List[int]]:\n",
    "    dropped_chunk_count = 0\n",
    "    output = []  # list to hold the final combined chunks\n",
    "    output_indices = []  # list to hold the indices of the final combined chunks\n",
    "    candidate = (\n",
    "        [] if header is None else [header]\n",
    "    )  # list to hold the current combined chunk candidate\n",
    "    candidate_indices = []\n",
    "    for chunk_i, chunk in enumerate(chunks):\n",
    "        chunk_with_header = [chunk] if header is None else [header, chunk]\n",
    "        if len(tokenize(chunk_delimiter.join(chunk_with_header))) > max_tokens:\n",
    "            print(f\"warning: chunk overflow\")\n",
    "            if (\n",
    "                    add_ellipsis_for_overflow\n",
    "                    and len(tokenize(chunk_delimiter.join(candidate + [\"...\"]))) <= max_tokens\n",
    "            ):\n",
    "                candidate.append(\"...\")\n",
    "                dropped_chunk_count += 1\n",
    "            continue  # this case would break downstream assumptions\n",
    "        # estimate token count with the current chunk added\n",
    "        extended_candidate_token_count = len(tokenize(chunk_delimiter.join(candidate + [chunk])))\n",
    "        # If the token count exceeds max_tokens, add the current candidate to output and start a new candidate\n",
    "        if extended_candidate_token_count > max_tokens:\n",
    "            output.append(chunk_delimiter.join(candidate))\n",
    "            output_indices.append(candidate_indices)\n",
    "            candidate = chunk_with_header  # re-initialize candidate\n",
    "            candidate_indices = [chunk_i]\n",
    "        # otherwise keep extending the candidate\n",
    "        else:\n",
    "            candidate.append(chunk)\n",
    "            candidate_indices.append(chunk_i)\n",
    "    # add the remaining candidate to output if it's not empty\n",
    "    if (header is not None and len(candidate) > 1) or (header is None and len(candidate) > 0):\n",
    "        output.append(chunk_delimiter.join(candidate))\n",
    "        output_indices.append(candidate_indices)\n",
    "    return output, output_indices, dropped_chunk_count"
   ]
  },
  {
   "cell_type": "markdown",
   "metadata": {},
   "source": [
    "## Now, we can define a utility to summarize text with a controllable level of detail \n",
    "\n",
    "The function first determines the number of chunks by interpolating between a minimum and a maximum chunk count based on a controllable detail parameter. \n",
    "It then splits the text into chunks and summarizes each chunk.\n"
   ]
  },
  {
   "cell_type": "code",
   "execution_count": 79,
   "metadata": {},
   "outputs": [],
   "source": [
    "def summarize(text: str,\n",
    "                detail: float = 0,\n",
    "                model: str = 'gpt-4-turbo',\n",
    "                additional_instructions: Optional[str] = None,\n",
    "                minimum_chunk_size: Optional[int] = 500,\n",
    "                chunk_delimiter: str = \".\",\n",
    "                summarize_recursively=False,\n",
    "                verbose=False):\n",
    "    \"\"\"\n",
    "    Summarizes a given text by splitting it into chunks, each of which is summarized individually. \n",
    "    The level of detail in the summary can be adjusted, and the process can optionally be made recursive.\n",
    "\n",
    "    Parameters:\n",
    "    - text (str): The text to be summarized.\n",
    "    - detail (float, optional): A value between 0 and 1 indicating the desired level of detail in the summary.\n",
    "    0 leads to a higher level summary, and 1 results in a more detailed summary. Defaults to 0.\n",
    "    - model (str, optional): The model to use for generating summaries. Defaults to 'gpt-3.5-turbo'.\n",
    "    - additional_instructions (Optional[str], optional): Additional instructions to provide to the model for customizing summaries.\n",
    "    - minimum_chunk_size (Optional[int], optional): The minimum size for text chunks. Defaults to 500.\n",
    "    - chunk_delimiter (str, optional): The delimiter used to split the text into chunks. Defaults to \".\".\n",
    "    - summarize_recursively (bool, optional): If True, summaries are generated recursively, using previous summaries for context.\n",
    "    - verbose (bool, optional): If True, prints detailed information about the chunking process.\n",
    "\n",
    "    Returns:\n",
    "    - str: The final compiled summary of the text.\n",
    "\n",
    "    The function first determines the number of chunks by interpolating between a minimum and a maximum chunk count based on the `detail` parameter. \n",
    "    It then splits the text into chunks and summarizes each chunk. If `summarize_recursively` is True, each summary is based on the previous summaries, \n",
    "    adding more context to the summarization process. The function returns a compiled summary of all chunks.\n",
    "    \"\"\"\n",
    "\n",
    "    # detail is set \n",
    "    assert 0 <= detail <= 1\n",
    "\n",
    "    # interpolating the number of chunks based to get specified level of detail\n",
    "    max_chunks = len(chunk_on_delimiter(text, minimum_chunk_size, chunk_delimiter))\n",
    "    min_chunks = 1\n",
    "    num_chunks = int(min_chunks + detail * (max_chunks - min_chunks))\n",
    "\n",
    "    # adjusting the chunk_size based on interpolated number of chunks\n",
    "    document_length = len(tokenize(text))\n",
    "    chunk_size = max(minimum_chunk_size, document_length // num_chunks)\n",
    "    text_chunks = chunk_on_delimiter(text, chunk_size, chunk_delimiter)\n",
    "    if verbose:\n",
    "        print(f\"Splitting the text into {len(text_chunks)} chunks to be summarized.\")\n",
    "        print(f\"Chunk lengths are {[len(tokenize(x)) for x in text_chunks]}\")\n",
    "\n",
    "\n",
    "    # setting system message\n",
    "    system_message_content = \"Rewrite this text in summarized form.\"\n",
    "    if additional_instructions is not None:\n",
    "        system_message_content += f\"\\n\\n{additional_instructions}\"\n",
    "\n",
    "    accumulated_summaries = []\n",
    "    for chunk in tqdm(text_chunks):\n",
    "        if summarize_recursively and accumulated_summaries:\n",
    "            # Creating a structured prompt for recursive summarization\n",
    "            accumulated_summaries_string = '\\n\\n'.join(accumulated_summaries)\n",
    "            user_message_content = f\"Previous summaries:\\n\\n{accumulated_summaries_string}\\n\\nText to summarize next:\\n\\n{chunk}\"\n",
    "        else:\n",
    "            # Directly passing the chunk for summarization without recursive context\n",
    "            user_message_content = chunk\n",
    "\n",
    "        # Constructing messages based on whether recursive summarization is applied\n",
    "        messages = [\n",
    "            {\"role\": \"system\", \"content\": system_message_content},\n",
    "            {\"role\": \"user\", \"content\": user_message_content}\n",
    "        ]\n",
    "\n",
    "        # Assuming this function gets the completion and works as expected\n",
    "        response = get_chat_completion(messages, model=model)\n",
    "        accumulated_summaries.append(response)\n",
    "\n",
    "    # Compiljng the final summary from partial summaries\n",
    "    final_summary = '\\n\\n'.join(accumulated_summaries)\n",
    "\n",
    "    return final_summary"
   ]
  },
  {
   "cell_type": "markdown",
   "metadata": {},
   "source": [
    "## Level of Depthness with chunking [0, 0.25, 0.5, 1]"
   ]
  },
  {
   "cell_type": "code",
   "execution_count": 80,
   "metadata": {},
   "outputs": [
    {
     "name": "stdout",
     "output_type": "stream",
     "text": [
      "Splitting the text into 1 chunks to be summarized.\n",
      "Chunk lengths are [2380]\n"
     ]
    },
    {
     "name": "stderr",
     "output_type": "stream",
     "text": [
      "100%|██████████| 1/1 [00:10<00:00, 10.88s/it]\n"
     ]
    }
   ],
   "source": [
    "summary_with_detail_0 = summarize(text, detail=0, verbose=True)"
   ]
  },
  {
   "cell_type": "code",
   "execution_count": 44,
   "metadata": {},
   "outputs": [
    {
     "name": "stdout",
     "output_type": "stream",
     "text": [
      "Splitting the text into 2 chunks to be summarized.\n",
      "Chunk lengths are [1190, 1190]\n"
     ]
    },
    {
     "name": "stderr",
     "output_type": "stream",
     "text": [
      "100%|██████████| 2/2 [00:16<00:00,  8.03s/it]\n"
     ]
    }
   ],
   "source": [
    "summary_with_detail_pt25 = summarize(text, detail=0.25, verbose=True)"
   ]
  },
  {
   "cell_type": "code",
   "execution_count": 45,
   "metadata": {},
   "outputs": [
    {
     "name": "stdout",
     "output_type": "stream",
     "text": [
      "Splitting the text into 4 chunks to be summarized.\n",
      "Chunk lengths are [784, 779, 783, 34]\n"
     ]
    },
    {
     "name": "stderr",
     "output_type": "stream",
     "text": [
      "100%|██████████| 4/4 [00:30<00:00,  7.51s/it]\n"
     ]
    }
   ],
   "source": [
    "summary_with_detail_pt5 = summarize(text, detail=0.5, verbose=True)"
   ]
  },
  {
   "cell_type": "code",
   "execution_count": 46,
   "metadata": {},
   "outputs": [
    {
     "name": "stdout",
     "output_type": "stream",
     "text": [
      "Splitting the text into 5 chunks to be summarized.\n",
      "Chunk lengths are [495, 480, 478, 495, 434]\n"
     ]
    },
    {
     "name": "stderr",
     "output_type": "stream",
     "text": [
      "100%|██████████| 5/5 [00:46<00:00,  9.37s/it]\n"
     ]
    }
   ],
   "source": [
    "summary_with_detail_1 = summarize(text, detail=1, verbose=True)"
   ]
  },
  {
   "cell_type": "markdown",
   "metadata": {},
   "source": [
    "## Length of summeries"
   ]
  },
  {
   "cell_type": "code",
   "execution_count": 47,
   "metadata": {},
   "outputs": [
    {
     "data": {
      "text/plain": [
       "[375, 439, 732, 1101]"
      ]
     },
     "execution_count": 47,
     "metadata": {},
     "output_type": "execute_result"
    }
   ],
   "source": [
    "[len(tokenize(x)) for x in\n",
    "[summary_with_detail_0, summary_with_detail_pt25, summary_with_detail_pt5, summary_with_detail_1]]"
   ]
  },
  {
   "cell_type": "markdown",
   "metadata": {},
   "source": [
    "## Summary based on detail"
   ]
  },
  {
   "cell_type": "markdown",
   "metadata": {},
   "source": [
    "Details refer to specific, granular information or particular elements within the text\n",
    "- higher detail results in longer and in-depth reviews\n",
    "- lower detail results in shorter and quick overviews"
   ]
  },
  {
   "cell_type": "markdown",
   "metadata": {},
   "source": [
    "## 0"
   ]
  },
  {
   "cell_type": "code",
   "execution_count": 48,
   "metadata": {},
   "outputs": [
    {
     "name": "stdout",
     "output_type": "stream",
     "text": [
      "**Clients Module Summary**\n",
      "\n",
      "**Date:** August 18th, 2023\n",
      "\n",
      "**Overview:**\n",
      "The Clients Module is designed to manage two types of clients: Individuals (including families and retail customers) and Groups (such as employers, companies, or associations). This module provides tools to manage client information, memberships, transactions, and more.\n",
      "\n",
      "**Key Features:**\n",
      "\n",
      "1. **Adding Clients:**\n",
      "   - **Individual Clients:** Add through the Clients Module by filling out an online form with details like name, date of birth, and contact information.\n",
      "   - **Group Clients:** Similar process to individual clients but includes group information and contact details.\n",
      "\n",
      "2. **Managing Memberships:**\n",
      "   - Approve or decline memberships.\n",
      "   - Modify memberships including start and end dates.\n",
      "   - Add or cancel memberships.\n",
      "\n",
      "3. **Transactions and Billing:**\n",
      "   - Add one-time transactions.\n",
      "   - Update billing information and payment methods.\n",
      "   - Send agreements for signatures.\n",
      "\n",
      "4. **Client Status:**\n",
      "   - Submitted: Default initial status.\n",
      "   - Approved: Client has completed all necessary steps and qualifies for services.\n",
      "   - Active/Inactive: Reflects whether the client currently has an active membership.\n",
      "   - Declined/Canceled: Indicates a client has terminated or will not continue their membership.\n",
      "\n",
      "5. **Additional Functions:**\n",
      "   - Quick view of client details including billing and cases.\n",
      "   - Upload and manage client files.\n",
      "   - Edit client profiles and membership details.\n",
      "\n",
      "6. **Client Account Activation:**\n",
      "   - Send invites for clients to activate their Vitafy account, allowing them access to manage their information and memberships.\n",
      "\n",
      "**Support:**\n",
      "For further assistance or inquiries, contact Vitafy support at support@vitafyhealth.com.\n",
      "\n",
      "This module streamlines client management processes, making it easier to handle various administrative tasks associated with client and membership management.\n"
     ]
    }
   ],
   "source": [
    "print(summary_with_detail_0)"
   ]
  },
  {
   "cell_type": "markdown",
   "metadata": {},
   "source": [
    "# 0.25"
   ]
  },
  {
   "cell_type": "code",
   "execution_count": 49,
   "metadata": {},
   "outputs": [
    {
     "name": "stdout",
     "output_type": "stream",
     "text": [
      "Clients Module Summary\n",
      "\n",
      "August 18th, 2023\n",
      "\n",
      "The Clients Module is designed to manage two types of clients: Individuals (including families and retail customers) and Groups (such as employers and companies). This system allows for efficient management of client information, including service details, memberships, transactions, and agreements.\n",
      "\n",
      "Key Functions:\n",
      "1. Adding Clients: Users can add individual clients or groups by filling out an online form and selecting the client type (Primary, Dependent, Group, Group Member).\n",
      "2. Managing Memberships: Users can approve, decline, modify, or cancel memberships, and adjust membership dates.\n",
      "3. Billing Updates: Billing information can be updated, and payment methods can be added or changed.\n",
      "4. Client Documentation: Files can be uploaded and managed through the module, and client ID cards can be viewed if enabled.\n",
      "5. Quick View: Provides a snapshot of client enrollments, transactions, and cases for easy reference.\n",
      "\n",
      "Overall, the module streamlines the process of client management, from registration to billing, enhancing the efficiency of handling client data and transactions.\n",
      "\n",
      "The primary payment method set will be the one billed for transactions. Clients have additional functionalities accessible under the ellipsis menu, including editing profiles, approving or declining memberships, and modifying memberships. Editing a profile allows changes to client information and billing details. Membership approval is necessary for transactions to proceed, and clients are initially placed in a submitted status upon creation. Approved clients receive a receipt and welcome email, while declined clients receive an email with notes. If approval occurs 7 days after enrollment, the client is not charged immediately but on the next payment date. Membership can be modified only when approved, allowing changes to fees, dates, and status. Memberships can be added or canceled through specific steps in the client module, and start or end dates can be adjusted as needed. Transactions can be manually added, and agreements can be sent for signatures. Client statuses include submitted, approved, canceled, declined, active, and inactive. For further assistance or missing functionalities, contact Vitafy support. Clients can activate their accounts through an invite sent from the client module, which pre-populates their sign-up page with their email.\n"
     ]
    }
   ],
   "source": [
    "print(summary_with_detail_pt25 )"
   ]
  },
  {
   "cell_type": "markdown",
   "metadata": {},
   "source": [
    "# 0.5"
   ]
  },
  {
   "cell_type": "code",
   "execution_count": 50,
   "metadata": {},
   "outputs": [
    {
     "name": "stdout",
     "output_type": "stream",
     "text": [
      "**Clients Module Summary**\n",
      "\n",
      "**Date:** August 18th, 2023\n",
      "\n",
      "**Overview:**\n",
      "The Clients module is designed to manage two types of clients: Individuals (including families and retail customers) and Groups (such as employers, companies, or associations).\n",
      "\n",
      "**Functionalities:**\n",
      "- **Manage Client Information:** Handle service/case details, membership approvals, transactions, agreements, and other management tasks.\n",
      "- **Client Types:** Includes Primary, Dependent, Group, and Group Member.\n",
      "- **Adding Clients:**\n",
      "  - **Individual Clients:** Accessible via the Clients module, where users can add individuals by filling out an online form with personal and contact details, followed by billing and payment information.\n",
      "  - **Dependents:** Added to a primary member by selecting the dependent option, filling out the required form, and completing billing details.\n",
      "  - **Group Clients:** Similar process to adding individual clients but involves entering group information and contact details.\n",
      "- **Client Status:** Default status is “Submitted” and changes upon approval.\n",
      "- **Membership Management:** Includes editing details, approving, declining, modifying, and cancelling memberships, along with changing start and end dates.\n",
      "- **Transactions and Agreements:** Options to add transactions and send agreements are available.\n",
      "- **File Management:** Files can be uploaded, downloaded, renamed, and viewed.\n",
      "- **Client ID Cards:** Viewable if the setting is enabled.\n",
      "\n",
      "This module streamlines the management of client information and transactions, enhancing the efficiency of handling both individual and group clients.\n",
      "\n",
      "To manage clients and groups in your company's system:\n",
      "\n",
      "1. **Approving Clients**: Clients are initially set to \"Submitted\" status. To approve, click the ellipses on the far right and select \"Approve\". Clients are charged only after approval. You can also edit bundle options here.\n",
      "\n",
      "2. **Adding Members to a Group**: Access the clients module, select the Group tab, find the group, and use the ellipses to add a member. Fill out the required form with personal information, bundle, billing details, and files.\n",
      "\n",
      "3. **Client Quick View**: This feature provides an overview of a client's enrollments, services, billing transactions, and cases. Access it by clicking the \"+\" sign next to a client's name. It shows enrollments, recent transactions, and up to five recent cases with direct access options.\n",
      "\n",
      "4. **Updating Billing**: Update client billing information via the client's profile. Navigate to the client, select edit profile, and switch to the billing tab to add or modify payment methods.\n",
      "\n",
      "5. **Client Ellipsis Functions**: Additional options under the ellipsis include editing client profiles, approving or declining memberships, and modifying memberships. Editing allows changes to personal details and viewing membership status. Approving triggers transactions and sends a receipt and welcome email. Declining stops inclusion in services but can be reversed. Modifying is available once approved and includes detailed membership information.\n",
      "\n",
      "Note: If approval occurs 7 days after enrollment, the client is not charged immediately but on the next scheduled payment date.\n",
      "\n",
      "This text provides instructions on managing client memberships and transactions through a client module accessible from a left menu bar. Users can view, modify, add, or cancel memberships, change membership dates, and add transactions. Specific steps include finding the client, modifying memberships, and confirming changes. Additionally, users can send agreements for signatures and invite clients to activate their accounts. Client statuses range from submitted to inactive, indicating various stages of client engagement. For further assistance or missing items, users are directed to contact Vitafy support.\n",
      "\n",
      "Clients can only create accounts and send invites if their enrollment is approved.\n"
     ]
    }
   ],
   "source": [
    "print(summary_with_detail_pt5 )"
   ]
  },
  {
   "cell_type": "markdown",
   "metadata": {},
   "source": [
    "## 1"
   ]
  },
  {
   "cell_type": "code",
   "execution_count": 51,
   "metadata": {},
   "outputs": [
    {
     "name": "stdout",
     "output_type": "stream",
     "text": [
      "Clients Module Summary\n",
      "\n",
      "Date: August 18th, 2023\n",
      "\n",
      "Overview\n",
      "\n",
      "The Clients module is designed to manage two types of clients: Individuals and Groups. Individuals include single customers, families, or retail clients, while Groups consist of employers, companies, or associations.\n",
      "\n",
      "Features\n",
      "\n",
      "The module provides tools to manage client information, oversee service or case details, handle memberships (approvals and declines), manage transactions, send agreements, and perform other administrative tasks.\n",
      "\n",
      "Instructions for Use\n",
      "\n",
      "1. Adding Clients:\n",
      "   - Individual Clients: Access the clients module, select the individual tab, and use the +Add button to fill out an online form with client details such as name, date of birth, and contact information. Choose service offerings and billing options.\n",
      "   - Group Clients: Similar steps apply, with the addition of adding multiple group members.\n",
      "\n",
      "2. Managing Memberships:\n",
      "   - Edit client details, approve or decline memberships, modify membership dates, add or cancel memberships.\n",
      "\n",
      "3. Transactions and Agreements:\n",
      "   - Add one-time transactions, send agreements, and delete members as needed.\n",
      "\n",
      "4. Client Status:\n",
      "   - New clients are marked as “Submitted” and are charged once approved. Client ID cards and files can be managed and viewed in the respective tabs.\n",
      "\n",
      "This module simplifies the management of individual and group clients, enhancing efficiency in handling client-related administrative tasks.\n",
      "\n",
      "To add a Dependent to a Primary Member:\n",
      "\n",
      "1. Navigate to the clients module from the left menu bar.\n",
      "2. Click on the +Add button at the top right.\n",
      "3. Select Dependent, choose the Primary member and their relation.\n",
      "4. Fill out the form and click Save.\n",
      "5. Select and save the bundle option, complete Billing, and add any Files using the ellipsis button.\n",
      "\n",
      "To set up a Group or a Company:\n",
      "\n",
      "1. Access the clients module from the left menu bar and go to the Group tab.\n",
      "2. Fill out the online form, selecting Group and entering group information and contact details.\n",
      "3. Choose the membership offering type, add a start date, and complete billing/payment options.\n",
      "4. Upload files using the +Upload files button and manage them via the ellipses.\n",
      "5. View the Client ID card in the ID tab if enabled and approve the client using the ellipses to change their status from “Submitted” to “Approved.”\n",
      "6. Modify bundle options as needed.\n",
      "\n",
      "To add Members to a Group:\n",
      "\n",
      "1. Go to the clients module, select the Group tab, and locate the desired group.\n",
      "2. Use the ellipses to select Add Member.\n",
      "3. Complete the form with personal information, bundle, billing, and files.\n",
      "4. View members by expanding the group name in the list.\n",
      "\n",
      "The Client Quick View function provides a snapshot of a client's enrollments, offerings, services, billing transactions, and ongoing cases. To access this, click the + sign next to a client's name. This view includes details of all enrollments for the primary client and their dependents, recent and upcoming billing transactions, and the latest five cases with an option to access specific cases directly.\n",
      "\n",
      "To update billing information, navigate to the client's profile through the clients module, select edit profile, and switch to the billing tab. Here, you can add or change payment methods and set a primary payment method for billing.\n",
      "\n",
      "Additional client functionalities are available under the ellipsis (⋮) menu, including editing client profiles, approving or declining memberships, and manually adding transactions if necessary. Approved clients automatically proceed with transactions upon membership changes, receive a receipt, and a welcome email. Clients declined will receive an email with notes, if provided. If approval occurs 7 days post-enrollment, the client is charged on the next payment date instead of immediately, requiring a manual transaction for the first payment.\n",
      "\n",
      "When a client is created, they are initially in a submitted status and can be declined or reinstated as needed. Membership modifications are only possible once the membership is approved, allowing changes to fees, benefit dates, and status (active or inactive). To modify a membership, access the clients module, select the client, and use the modify membership option to add, cancel, or change the start or end date of a membership. Additionally, one-time transactions can be added manually, and documents can be sent for client signatures through the same module.\n",
      "\n",
      "To send a document for a client to sign or to invite a client to activate their Vitafy account, follow these steps:\n",
      "\n",
      "1. Navigate to the clients module from the left menu bar.\n",
      "2. Locate the desired client.\n",
      "3. For sending a document, click on ellipses > Send agreement.\n",
      "4. For inviting a client to activate their account, click on ellipses > Send Invite. If the client lost the initial activation email, resend the invite.\n",
      "\n",
      "Client statuses are as follows:\n",
      "- **Submitted**: Initial creation status, customizable.\n",
      "- **Approved**: Client has completed all requirements including document signing, payments, and forms.\n",
      "- **Canceled**: Client pre-emptively ends membership or is no longer offered services.\n",
      "- **Declined**: Client wishes to terminate their membership.\n",
      "- **Active**: Client has an active membership, which may be scheduled to end in the future.\n",
      "- **Inactive**: Client has no active memberships, including expired ones.\n",
      "\n",
      "For issues or missing items, contact Vitafy support at support@vitafyhealth.com. Note that clients can only activate accounts if their enrollment is approved.\n"
     ]
    }
   ],
   "source": [
    "print(summary_with_detail_1)"
   ]
  },
  {
   "cell_type": "markdown",
   "metadata": {},
   "source": [
    "## Summary with additional instructions (prompts)"
   ]
  },
  {
   "cell_type": "markdown",
   "metadata": {},
   "source": [
    " Listing in points"
   ]
  },
  {
   "cell_type": "markdown",
   "metadata": {},
   "source": [
    "## 0.1"
   ]
  },
  {
   "cell_type": "code",
   "execution_count": 52,
   "metadata": {},
   "outputs": [
    {
     "name": "stderr",
     "output_type": "stream",
     "text": [
      "100%|██████████| 1/1 [00:14<00:00, 14.17s/it]"
     ]
    },
    {
     "name": "stdout",
     "output_type": "stream",
     "text": [
      "- **Types of Clients**: Individuals (including families) and Groups (employers, companies, associations).\n",
      "- **Client Management Tools**: Manage service/case information, memberships, transactions, agreements, and other tasks.\n",
      "- **Adding Clients**:\n",
      "  - Individual Client: Via Clients Module > Individual Tab > +Add button.\n",
      "  - Dependent: Added to a primary member.\n",
      "  - Group Client: Via Clients Module > Group Tab > +Add button.\n",
      "  - Group Members: Added to existing groups.\n",
      "- **Client Information**:\n",
      "  - Four client types: Primary, Dependent, Group, Group Member.\n",
      "  - Information required: Name, date of birth, email, phone, address.\n",
      "  - Billing/payment setup included.\n",
      "- **Client Status**:\n",
      "  - Default: \"Submitted\" (charged upon \"Approved\").\n",
      "  - Other statuses: Active, Inactive, Canceled, Declined.\n",
      "- **Client Functions**:\n",
      "  - Edit details, approve/decline/modify membership, add/change membership dates, add transactions, send agreements.\n",
      "- **Membership Management**:\n",
      "  - Approve/decline memberships.\n",
      "  - Modify memberships: Add or cancel, change start/end dates.\n",
      "- **Billing Updates**:\n",
      "  - Change billing information, add payment methods, set primary payment method.\n",
      "- **File Management**:\n",
      "  - Upload, download, rename, view files.\n",
      "- **Client ID Card**: Available in ID tab if enabled.\n",
      "- **Quick View Function**: Access client details, billing, and cases.\n",
      "- **Client Activation**:\n",
      "  - Send invite for account activation.\n",
      "  - Activation link pre-populates sign-up page with client's email.\n",
      "- **Support Contact**: support@vitafyhealth.com for inquiries or issues.\n"
     ]
    },
    {
     "name": "stderr",
     "output_type": "stream",
     "text": [
      "\n"
     ]
    }
   ],
   "source": [
    "summary_with_additional_instructions = summarize(text, detail=0.1,\n",
    "                                                    additional_instructions=\"Write in point form and focus on numerical data.\")\n",
    "print(summary_with_additional_instructions)"
   ]
  },
  {
   "cell_type": "markdown",
   "metadata": {},
   "source": [
    "## 0.6"
   ]
  },
  {
   "cell_type": "code",
   "execution_count": 53,
   "metadata": {},
   "outputs": [
    {
     "name": "stderr",
     "output_type": "stream",
     "text": [
      "100%|██████████| 4/4 [00:30<00:00,  7.72s/it]"
     ]
    },
    {
     "name": "stdout",
     "output_type": "stream",
     "text": [
      "- **Types of Clients**: Individuals (including families, retail customers) and Groups (employers, companies, associations).\n",
      "- **Client Management Tools**: Manage service/case information, memberships, transactions, agreements, and other tasks.\n",
      "- **Client Addition Process**:\n",
      "  - **Individual Client**: Add via Clients Module > Individual Tab > +Add button > Fill online form (Primary, Dependent) > Save > Select offering and start date > Billing/payment options.\n",
      "  - **Group Client**: Add via Clients Module > Group Tab > +Add button > Fill online form (Group, Group Member) > Save > Select membership offering and start date > Billing/payment options.\n",
      "- **Client Modifications**:\n",
      "  - Edit details, approve/decline/modify membership, change membership dates, add/cancel membership.\n",
      "  - Add one-time transactions, send agreements, delete members.\n",
      "- **Client Status**: Default is “Submitted”; charged once “Approved”.\n",
      "- **File Management**: Upload, download, rename, and view files using the +Upload files button and ellipses button.\n",
      "- **Client ID Card**: Viewable in the ID tab if enabled.\n",
      "\n",
      "- **Client Approval Process:**\n",
      "  - Use ellipses on the right to approve clients.\n",
      "  - Clients are \"Submitted\" by default and charged upon approval.\n",
      "  - Bundle options can be edited via ellipses -> modify bundle option.\n",
      "\n",
      "- **Adding Members to a Group:**\n",
      "  - Access via clients module > Group tab.\n",
      "  - Use ellipses to add members.\n",
      "  - Complete form with personal info, bundle, billing, and files.\n",
      "\n",
      "- **Client Quick View:**\n",
      "  - Access by clicking + sign next to client names.\n",
      "  - Shows enrollments, billing transactions, and recent cases (up to five).\n",
      "\n",
      "- **Update Billing:**\n",
      "  - Accessed through clients module > client > ellipses > edit profile > billings tab.\n",
      "  - Option to change payment method and set a primary method for billing.\n",
      "\n",
      "- **Client Ellipsis Functions (⋮):**\n",
      "  - Edit profile: Modify client info, update billing, upload files.\n",
      "  - Approve membership: Transactions proceed post-approval; receipt and welcome email sent.\n",
      "  - Decline membership: Option to decline and later reinstate by modifying membership.\n",
      "  - Modify membership: Available post-approval; details fees, benefits, and end date options.\n",
      "\n",
      "- **Note on Approval Timing:**\n",
      "  - If approved 7 days after enrollment, client is not charged immediately but on the next payment date; manual transaction required for the first payment.\n",
      "\n",
      "- View active and inactive memberships; update by setting new start dates.\n",
      "- Add membership:\n",
      "  - Access clients module > find client > modify membership > +Add > select membership > choose Public/Private > set start date > confirm.\n",
      "- Cancel membership:\n",
      "  - Access clients module > find client > modify membership > cancel membership > set cancellation date > optional note > confirm.\n",
      "- Change membership start date:\n",
      "  - Access clients module > find client > edit profile > membership tab > select membership and new start date.\n",
      "- Change membership end date:\n",
      "  - Access clients module > find client > modify membership > view Active/Inactive > complete > set end date.\n",
      "- Add transaction manually:\n",
      "  - Access clients module > find client > add transaction.\n",
      "- Send agreement for signature:\n",
      "  - Access clients module > find client > send agreement.\n",
      "- Delete client/member:\n",
      "  - Contact support@vitafyhealth.com.\n",
      "- Client statuses:\n",
      "  - Submitted: Initial creation status.\n",
      "  - Approved: Completed all requirements.\n",
      "  - Canceled: Non-renewal or service termination.\n",
      "  - Declined: Termination of current membership.\n",
      "  - Active: Holds active membership with future end date.\n",
      "  - Inactive: No active memberships.\n",
      "- Activate client account:\n",
      "  - Access clients module > find client > send invite > resend if necessary.\n",
      "- Contact support for missing items or access issues at support@vitafyhealth.com.\n",
      "\n",
      "- Clients can only create accounts if their profile enrollment is approved.\n",
      "- Clients can send invites once their enrollment is approved.\n"
     ]
    },
    {
     "name": "stderr",
     "output_type": "stream",
     "text": [
      "\n"
     ]
    }
   ],
   "source": [
    "summary_with_additional_instructions = summarize(text, detail=0.6,\n",
    "                                                    additional_instructions=\"Write in point form and focus on numerical data.\")\n",
    "print(summary_with_additional_instructions)"
   ]
  },
  {
   "cell_type": "markdown",
   "metadata": {},
   "source": [
    "## 1"
   ]
  },
  {
   "cell_type": "code",
   "execution_count": 54,
   "metadata": {},
   "outputs": [
    {
     "name": "stderr",
     "output_type": "stream",
     "text": [
      "100%|██████████| 5/5 [00:57<00:00, 11.47s/it]"
     ]
    },
    {
     "name": "stdout",
     "output_type": "stream",
     "text": [
      "- Types of clients: Individuals (individual customers, families, retail customers) and Groups (employers, companies, associations).\n",
      "- Management tools: Manage client information, service/case details, memberships, transactions, agreements.\n",
      "- Client operations:\n",
      "  - Add Individual Client\n",
      "  - Add dependents to a primary member\n",
      "  - Add a Group Client\n",
      "  - Add members to a group\n",
      "  - Quick view of group members/dependents, billings, cases\n",
      "  - Update Billing\n",
      "- Client ellipsis functions:\n",
      "  - Edit client details\n",
      "  - Approve/Decline/Modify membership\n",
      "  - Change membership start/end date\n",
      "  - Add/Cancel additional membership\n",
      "  - Add a one-time transaction\n",
      "  - Send an agreement\n",
      "  - Delete member\n",
      "- Client status: \"Submitted\" by default, charged once \"Approved\"\n",
      "- Adding an Individual Client:\n",
      "  - Access through clients module > individual tab\n",
      "  - Use +Add button, fill online form (Primary, Dependent, Group, Group Member)\n",
      "  - Enter personal details (Name, DOB, email, phone, address)\n",
      "  - Select service offering, add start date, billing/payment options\n",
      "  - Upload files, view/download/rename files, view ID card in ID tab\n",
      "- Adding a dependent involves connecting them to a primary client through family ties or association.\n",
      "\n",
      "- Adding a Dependent:\n",
      "  - Navigate to clients module > +Add button > Select Dependent\n",
      "  - Choose Primary member and relationship\n",
      "  - Fill out the form and click Save\n",
      "  - Select and save bundle option\n",
      "  - Complete Billing and add any files\n",
      "\n",
      "- Adding a Group or Company:\n",
      "  - Navigate to clients module > Group tab\n",
      "  - Fill out online form for Group\n",
      "  - Add group information and contact details, then save\n",
      "  - Select membership type and start date\n",
      "  - Complete billing/payment details\n",
      "  - Upload files using +Upload files button\n",
      "  - View, download, rename files using ellipses\n",
      "  - View Client ID card in ID tab (if enabled)\n",
      "  - Approve client using ellipses > “Approve”\n",
      "  - Default client status is “Submitted”, charged upon “Approved”\n",
      "  - Modify bundle options using ellipses\n",
      "\n",
      "- Adding Members to a Group:\n",
      "  - Navigate to clients module > Group tab\n",
      "  - Locate and select group > ellipses > Add Member\n",
      "  - Fill out form with personal information, bundle, billing, and files\n",
      "  - View members by clicking + next to group name\n",
      "\n",
      "- **Client Quick View function (+):**\n",
      "  - Provides overview of client's enrollments, offerings, services, billing transactions, and cases.\n",
      "  - Accessible by clicking the + sign next to client names.\n",
      "\n",
      "- **Membership Details:**\n",
      "  - Displays all enrollments for both primary clients and their dependents.\n",
      "\n",
      "- **Billing Section:**\n",
      "  - Shows all recent and upcoming recurring transactions.\n",
      "\n",
      "- **Cases Section:**\n",
      "  - Lists the most recent five cases with direct access options.\n",
      "\n",
      "- **Update Billing:**\n",
      "  - Billing information editable via client profile.\n",
      "  - Access through: Clients module > client > ellipses > edit profile > billings tab.\n",
      "  - Option to add and set primary payment methods.\n",
      "\n",
      "- **Client Ellipsis Functions (⋮):**\n",
      "  - Offers additional functionalities like editing client information (address, phone, email), updating billing details, and uploading files.\n",
      "  - Approve or decline membership options.\n",
      "  - Approval leads to automatic transaction processing and receipt/welcome email issuance.\n",
      "  - Decline results in an email notification with notes.\n",
      "\n",
      "- **Membership Approval Note:**\n",
      "  - If approved 7 days post-enrollment, client is not charged immediately but on the next scheduled payment date.\n",
      "  - Initial payment must be manually added through \"Add Transaction\" in the ellipsis.\n",
      "\n",
      "- Client status starts as \"submitted\" and can be declined or reinstated.\n",
      "- Modify membership is accessible only when membership is in \"approved\" status.\n",
      "- Membership details include fees, benefit dates, and options to complete or cancel with an end date.\n",
      "- Active and past inactive memberships can be viewed and modified.\n",
      "- Adding a new membership involves:\n",
      "  - Navigating to clients module\n",
      "  - Finding and selecting the client\n",
      "  - Using ellipses to modify membership\n",
      "  - Adding and selecting new membership from a list\n",
      "  - Choosing Public/Private bundle\n",
      "  - Setting start date and confirming\n",
      "- Cancelling a membership involves:\n",
      "  - Navigating to clients module\n",
      "  - Using ellipses to modify membership\n",
      "  - Clicking cancel, selecting end date, optionally adding a note, and confirming\n",
      "- Changing membership start and end dates:\n",
      "  - Accessible for memberships that haven't started or ended\n",
      "  - Done through clients module, selecting client, and modifying membership details\n",
      "- Adding a transaction:\n",
      "  - Navigate to clients module, select client, use ellipses to add transaction\n",
      "- Sending an agreement involves sending a document for client signature.\n",
      "\n",
      "- Send agreement to client:\n",
      "  - Access clients module from left menu bar\n",
      "  - Locate client\n",
      "  - Select ellipses > Send agreement\n",
      "\n",
      "- To delete a client/member:\n",
      "  - Email support@vitafyhealth.com\n",
      "\n",
      "- Client statuses:\n",
      "  - Submitted: Initial creation status, customizable\n",
      "  - Approved: Completed all steps (signing, payments, forms), eligible for services\n",
      "  - Canceled: Non-renewal or service discontinuation by company\n",
      "  - Declined: Client terminates or does not want to continue membership\n",
      "  - Active: Holds active membership, possible future cancellation\n",
      "  - Inactive: No active membership, includes expired enrollments\n",
      "\n",
      "- Activate client account:\n",
      "  - Access clients module from left menu bar\n",
      "  - Locate client\n",
      "  - Select ellipses > Send Invite\n",
      "  - Resend invite if initial email lost\n",
      "  - Activation link pre-populates sign-up page with client's email, editable for unique usernames\n",
      "\n",
      "- Note:\n",
      "  - Clients can only activate accounts with approved enrollment\n",
      "  - Contact support@vitafyhealth.com for missing items or access issues\n"
     ]
    },
    {
     "name": "stderr",
     "output_type": "stream",
     "text": [
      "\n"
     ]
    }
   ],
   "source": [
    "summary_with_additional_instructions = summarize(text, detail=1,\n",
    "                                                    additional_instructions=\"Write in point form and focus on numerical data.\")\n",
    "print(summary_with_additional_instructions)"
   ]
  },
  {
   "cell_type": "markdown",
   "metadata": {},
   "source": [
    "Detail summary with prompts"
   ]
  },
  {
   "cell_type": "code",
   "execution_count": 55,
   "metadata": {},
   "outputs": [
    {
     "name": "stderr",
     "output_type": "stream",
     "text": [
      "100%|██████████| 1/1 [00:09<00:00,  9.34s/it]"
     ]
    },
    {
     "name": "stdout",
     "output_type": "stream",
     "text": [
      "The Vitafy Healthcare system's admin and client portal allows for efficient management of individual and group clients. Clients are categorized into Individuals (including families or retail customers) and Groups (such as employers or companies). The system provides tools to manage client information, service details, memberships, transactions, and agreements.\n",
      "\n",
      "Key functionalities include:\n",
      "- Adding individual clients and dependents.\n",
      "- Setting up groups or companies and adding members to these groups.\n",
      "- Viewing quick details of group members, billings, and cases.\n",
      "- Updating billing information and managing various payment methods.\n",
      "- Utilizing the client ellipsis function to edit client details, approve or decline memberships, modify memberships, and handle other membership-related tasks such as changing start and end dates, adding or canceling memberships.\n",
      "- Adding one-time transactions and sending agreements.\n",
      "- Managing client statuses which include Submitted, Approved, Canceled, Declined, Active, and Inactive.\n",
      "- Activating client accounts for login and sending invites for account activation.\n",
      "\n",
      "The system ensures that all client interactions, from registration to membership management, are streamlined and accessible through a user-friendly interface. For any additional support or missing functionalities, Vitafy provides a dedicated support contact.\n"
     ]
    },
    {
     "name": "stderr",
     "output_type": "stream",
     "text": [
      "\n"
     ]
    }
   ],
   "source": [
    "summary_with_additional_instructions = summarize(text, detail=0.1,\n",
    "                                                    additional_instructions=\"Summarize the key details of this admin and client portal of Vitafy Healthcare system.\")\n",
    "print(summary_with_additional_instructions)"
   ]
  },
  {
   "cell_type": "code",
   "execution_count": 56,
   "metadata": {},
   "outputs": [
    {
     "name": "stderr",
     "output_type": "stream",
     "text": [
      "100%|██████████| 5/5 [00:38<00:00,  7.75s/it]"
     ]
    },
    {
     "name": "stdout",
     "output_type": "stream",
     "text": [
      "The Clients Module of Vitafy Healthcare system, updated on August 18th, 2023, allows for efficient management of two types of clients: Individuals (including families or retail customers) and Groups (such as employers, companies, or associations). The module provides tools to manage client information, service/case details, memberships, transactions, and agreements.\n",
      "\n",
      "Key functionalities include:\n",
      "- Adding individual clients and dependents.\n",
      "- Adding group clients and their members.\n",
      "- Viewing group members, billings, and cases.\n",
      "- Updating billing information.\n",
      "- Editing client details, membership approvals, modifications, and cancellations.\n",
      "- Adding one-time transactions and sending agreements.\n",
      "- Deleting members and managing client statuses.\n",
      "\n",
      "To add an individual client, navigate to the clients module, select the individual tab, and fill out the online form with details like name, date of birth, and contact information. Payment details are added in the billing section, and files can be uploaded and managed in the files tab.\n",
      "\n",
      "Dependents can be added to a primary member by selecting the dependent option, linking them to a primary member, and completing similar steps as adding an individual client.\n",
      "\n",
      "Overall, the system streamlines client management processes, ensuring efficient handling of client data and transactions.\n",
      "\n",
      "The Vitafy Healthcare system allows the setup of groups or companies, which can include various establishments like clinics or facilities. To add a group, users must navigate to the clients module, select the Group tab, and fill out an online form specifying the group type and contact information. After saving, users can choose membership types, set start dates, and enter billing/payment details. Files can be uploaded and managed in the files tab, and client ID cards are accessible if enabled. Clients are initially marked as \"Submitted\" and are only charged upon approval. Group members can be added by selecting the appropriate group and filling out similar forms as when creating a group.\n",
      "\n",
      "The system also features a Client Quick View for a convenient overview of a client's enrollments, offerings, services, billing transactions, and cases. This view is accessible by clicking the \"+\" sign next to a client's name, providing details on enrollments, recent transactions, and the latest cases with direct access options.\n",
      "\n",
      "The Vitafy Healthcare system allows for the management of client billing and membership details through an admin and client portal. To update billing information, navigate to the client's profile via the clients module, access the billing tab, and modify the payment method, setting a primary method if multiple options exist. Additional client functionalities are accessible under the ellipsis menu, including editing profiles, approving or declining memberships, and modifying memberships. Membership approval triggers automatic transactions and sends a receipt and welcome email to the client, while declined clients receive an email with notes. If approval occurs 7 days post-enrollment, the client is charged on the next payment date, requiring manual transaction addition for the first payment. Membership modifications are only available post-approval and allow for updates to membership details, including start dates and status changes. To add a new membership, select the client, modify membership, and choose the desired options, including the type of membership bundle and start date.\n",
      "\n",
      "The Vitafy Healthcare system provides a comprehensive admin and client portal for managing memberships. Key functionalities include:\n",
      "\n",
      "1. **Canceling Memberships**: Access the clients module, select the client, and use the modify membership option to cancel the membership by choosing a cancellation date and optionally adding a note.\n",
      "\n",
      "2. **Changing Membership Dates**: Start and end dates of memberships can be adjusted before they begin or end, respectively. This is done through the clients module by editing the client's profile or modifying the membership details.\n",
      "\n",
      "3. **Adding Transactions**: Manual transactions can be added for any offerings by selecting the client in the clients module and using the add transaction option.\n",
      "\n",
      "4. **Sending Agreements**: Documents requiring client signatures can be sent directly through the clients module by selecting the appropriate client and using the send agreement option.\n",
      "\n",
      "5. **Client Statuses**: Various statuses are used to track the client's journey, including Submitted, Approved, Canceled, Declined, Active, and Inactive. Each status reflects different stages of client interaction and membership status.\n",
      "\n",
      "For permanent deletion of a client/member or other specific inquiries, contact support at support@vitafyhealth.com.\n",
      "\n",
      "To activate a client's account in the Vitafy Healthcare system:\n",
      "\n",
      "1. Navigate to the \"clients module\" from the left menu bar.\n",
      "2. Locate the desired client and select \"Send Invite\" from the ellipses menu.\n",
      "3. If the client did not receive or lost the initial activation email, resend the invite.\n",
      "4. The activation link auto-fills the client's signup page with their email, which can be edited to include a unique username if the same email is used for multiple profiles (e.g., primary and dependent members).\n",
      "5. Note: Invites can only be sent to clients whose profiles have approved enrollment.\n"
     ]
    },
    {
     "name": "stderr",
     "output_type": "stream",
     "text": [
      "\n"
     ]
    }
   ],
   "source": [
    "summary_with_additional_instructions = summarize(text, detail=0.9,\n",
    "                                                    additional_instructions=\"Summarize the key details of this admin and client portal of Vitafy Healthcare system.\")\n",
    "print(summary_with_additional_instructions)"
   ]
  },
  {
   "cell_type": "markdown",
   "metadata": {},
   "source": [
    "## Recursive Summarization"
   ]
  },
  {
   "cell_type": "code",
   "execution_count": 57,
   "metadata": {},
   "outputs": [
    {
     "name": "stderr",
     "output_type": "stream",
     "text": [
      "100%|██████████| 1/1 [00:13<00:00, 13.41s/it]"
     ]
    },
    {
     "name": "stdout",
     "output_type": "stream",
     "text": [
      "**Clients Module Summary**\n",
      "\n",
      "**Date:** August 18th, 2023\n",
      "\n",
      "**Overview:**\n",
      "The Clients Module is designed to manage two types of clients: Individuals (including families and retail customers) and Groups (such as employers and companies). This system facilitates various administrative tasks including managing client information, memberships, transactions, and agreements.\n",
      "\n",
      "**Key Features:**\n",
      "\n",
      "1. **Adding Clients:**\n",
      "   - **Individual Clients:** Can be added through the module by filling out an online form specifying details like name, contact, and billing information.\n",
      "   - **Group Clients:** Similar process to individuals but involves entering group-specific information.\n",
      "\n",
      "2. **Managing Memberships:**\n",
      "   - Memberships can be approved or declined, with the ability to modify, add, or cancel memberships. Changes to the start and end dates of memberships can also be managed.\n",
      "\n",
      "3. **Transactions and Agreements:**\n",
      "   - One-time transactions can be added manually.\n",
      "   - Agreements can be sent to clients for signatures.\n",
      "\n",
      "4. **Client Status:**\n",
      "   - Includes various statuses like Submitted, Approved, Active, Inactive, Canceled, and Declined, each indicating the client’s current engagement level.\n",
      "\n",
      "5. **Client Management Functions:**\n",
      "   - The module allows for updating client details, billing information, and viewing client ID cards.\n",
      "   - Files related to clients can be uploaded and managed.\n",
      "\n",
      "6. **Additional Features:**\n",
      "   - Quick view options for an overview of client details, memberships, and billing.\n",
      "   - Activation of client accounts for accessing the Vitafy system.\n",
      "\n",
      "**Support:**\n",
      "For further assistance or to address any issues, contact Vitafy support at support@vitafyhealth.com.\n",
      "\n",
      "This module is essential for efficiently managing client interactions and ensuring smooth operation of membership and billing related tasks within an organization.\n"
     ]
    },
    {
     "name": "stderr",
     "output_type": "stream",
     "text": [
      "\n"
     ]
    }
   ],
   "source": [
    "recursive_summary = summarize(text, detail=0.1, summarize_recursively=True)\n",
    "print(recursive_summary)"
   ]
  },
  {
   "cell_type": "code",
   "execution_count": 58,
   "metadata": {},
   "outputs": [
    {
     "name": "stderr",
     "output_type": "stream",
     "text": [
      "100%|██████████| 5/5 [01:00<00:00, 12.16s/it]"
     ]
    },
    {
     "name": "stdout",
     "output_type": "stream",
     "text": [
      "**Clients Module Summary**\n",
      "\n",
      "**Date:** August 18th, 2023\n",
      "\n",
      "**Overview:**\n",
      "The Clients Module is designed to manage two types of clients: Individuals (including families and retail customers) and Groups (such as employers, companies, or associations). This module provides tools to manage client information, transactions, memberships, and billing efficiently.\n",
      "\n",
      "**Key Features:**\n",
      "\n",
      "1. **Managing Client Information:**\n",
      "   - Oversee service/case details, memberships, and transactions.\n",
      "   - Send agreements and perform other management tasks.\n",
      "\n",
      "2. **Adding Clients:**\n",
      "   - **Individual Clients:** Accessible via the clients module, where details like name, date of birth, and contact information are entered. Options to add dependents are available.\n",
      "   - **Group Clients:** Similar access point, with functionality to add multiple group members.\n",
      "\n",
      "3. **Membership Management:**\n",
      "   - Approve or decline memberships.\n",
      "   - Modify membership details including start and end dates.\n",
      "   - Add or cancel memberships.\n",
      "\n",
      "4. **Billing Updates:**\n",
      "   - Manage billing and payment information through the module.\n",
      "\n",
      "5. **Client Status and ID:**\n",
      "   - Default status is “Submitted” with charges applied post-approval.\n",
      "   - View client ID cards if enabled.\n",
      "\n",
      "6. **File Management:**\n",
      "   - Upload and manage client-related files.\n",
      "\n",
      "This module simplifies client management by centralizing control over various aspects of client interaction and administration.\n",
      "\n",
      "**Setting Up a Group or Company in the Clients Module**\n",
      "\n",
      "**Date:** August 18th, 2023\n",
      "\n",
      "**Overview:**\n",
      "The process to add a group or company involves several steps within the Clients Module, allowing for the management of multiple individuals under one entity using the provided services or products.\n",
      "\n",
      "**Steps to Add a Group:**\n",
      "1. **Accessing the Module:**\n",
      "   - Navigate to the Clients Module from the left menu bar and select the Group tab.\n",
      "\n",
      "2. **Filling Out the Form:**\n",
      "   - Complete the online form by selecting 'Group' and entering the necessary group and contact information, then save.\n",
      "\n",
      "3. **Membership and Billing:**\n",
      "   - Choose a membership type, set the start date, and enter payment details under the billing tab.\n",
      "\n",
      "4. **Uploading Files:**\n",
      "   - Use the '+Upload files' button to add necessary documents, which can be managed and accessed as needed.\n",
      "\n",
      "5. **Viewing and Managing Client ID:**\n",
      "   - Client ID cards can be viewed if the setting is enabled.\n",
      "\n",
      "6. **Approval Process:**\n",
      "   - Approve the client by using the ellipses on the right; the client status is 'Submitted' by default and will be charged upon approval.\n",
      "\n",
      "7. **Editing Bundle Options:**\n",
      "   - Modify bundle options if necessary using the ellipses.\n",
      "\n",
      "**Adding Members to a Group:**\n",
      "- Follow similar steps by selecting 'Add Member' from the Group tab, and fill out the form with the member's personal information, bundle, and billing details.\n",
      "\n",
      "**Client Quick View Function:**\n",
      "- Provides a snapshot of a client’s enrollments, offerings, services, billing transactions, and recent cases, accessible by clicking the '+' sign next to a client's name in the module.\n",
      "\n",
      "This streamlined process in the Clients Module facilitates efficient management of group entities and individual members within a company or group setting.\n",
      "\n",
      "**Clients Module Update and Functions Summary**\n",
      "\n",
      "**Date:** August 18th, 2023\n",
      "\n",
      "**Billing Update:**\n",
      "- Client billing information can be updated via the Clients Module by navigating to the client's profile, selecting 'edit profile,' and switching to the billing tab to add or modify payment methods. The primary payment method can be set for billing purposes.\n",
      "\n",
      "**Client Ellipsis Functions:**\n",
      "- Additional functionalities for client support are accessible under the ellipsis in the client's profile. These include editing client details (address, phone, email, tags), viewing membership status, updating billing, and uploading files.\n",
      "- Membership approval is required for transaction processing. Upon approval, clients receive a receipt and welcome email. If declined, they receive an email with notes. If approval occurs 7 days post-enrollment, the client is charged on the next payment date, requiring manual transaction addition for the first payment.\n",
      "- Membership can be declined or modified post-approval, with options to add, cancel, or change memberships, including setting new start dates.\n",
      "\n",
      "**Adding and Modifying Memberships:**\n",
      "- To add or modify a membership, access the Clients Module, select the client, and use the ellipsis to modify membership. New memberships can be added, and existing ones can be updated to reflect new start dates or switch between public/private bundles.\n",
      "\n",
      "This summary encapsulates the key functionalities and processes within the Clients Module for managing client billing and memberships efficiently.\n",
      "\n",
      "**Clients Module Summary**\n",
      "\n",
      "**Date:** August 18th, 2023\n",
      "\n",
      "**Overview:**\n",
      "The Clients Module is essential for managing individual and group clients, including families, retail customers, employers, and companies. It offers comprehensive tools for handling client data, transactions, memberships, and billing.\n",
      "\n",
      "**Key Features:**\n",
      "1. **Client Information Management:** Manage service details, memberships, transactions, and send agreements.\n",
      "2. **Client Addition:** Add individual clients with personal and dependent information, and group clients with multiple member details.\n",
      "3. **Membership Management:** Approve, modify, or cancel memberships with options for adjusting dates.\n",
      "4. **Billing Management:** Update and manage billing and payment details.\n",
      "5. **Client Status and ID:** Track client status from submission to approval and manage client ID cards.\n",
      "6. **File Management:** Upload and access client-related files.\n",
      "\n",
      "**Group Setup in Clients Module:**\n",
      "- Navigate to the Group tab, fill out the necessary forms, manage memberships, billing, and documents, and approve or modify client details.\n",
      "\n",
      "**Client Quick View Function:**\n",
      "- Access a snapshot of client’s enrollments, services, and transactions by clicking the '+' sign next to a client's name.\n",
      "\n",
      "**Membership and Transaction Modifications:**\n",
      "- Cancel or change membership dates and manually add transactions through the Clients Module.\n",
      "\n",
      "**Sending Agreements:**\n",
      "- Send documents for client signatures directly through the module.\n",
      "\n",
      "**Client Status Definitions:**\n",
      "- Ranges from 'Submitted' for new entries to 'Inactive' for clients without current memberships. Other statuses include 'Approved', 'Canceled', 'Declined', and 'Active'.\n",
      "\n",
      "**Support Contact:**\n",
      "- For additional support or missing features, contact Vitafy support at support@vitafyhealth.com.\n",
      "\n",
      "This summary encapsulates the functionalities and processes within the Clients Module for efficient client management.\n",
      "\n",
      "**Clients Module Activation Process Summary**\n",
      "\n",
      "**Date:** August 18th, 2023\n",
      "\n",
      "**Overview:**\n",
      "The process to activate a client's Vitafy account involves sending an invitation through the Clients Module. This allows clients to access their accounts for managing their profiles and services.\n",
      "\n",
      "**Steps to Activate Client Account:**\n",
      "1. **Accessing the Clients Module:**\n",
      "   - Navigate to the Clients Module from the left menu bar.\n",
      "\n",
      "2. **Selecting the Client:**\n",
      "   - Locate the client intended for account activation.\n",
      "\n",
      "3. **Sending the Activation Invite:**\n",
      "   - Click on the ellipses next to the client's name and select 'Send Invite'.\n",
      "   - If the client has misplaced the initial activation email, a new invite can be sent.\n",
      "\n",
      "4. **Account Activation Link:**\n",
      "   - The activation link in the invite pre-populates the client's signup page with their email, which is editable. For clients using the same email for multiple profiles (e.g., primary and dependent members), it is suggested to assign a unique username.\n",
      "\n",
      "**Note:**\n",
      "- Clients can only receive an activation invite if their profile has an approved enrollment.\n",
      "\n",
      "This summary outlines the procedure for activating client accounts in the Clients Module, ensuring they can manage their information and services efficiently.\n"
     ]
    },
    {
     "name": "stderr",
     "output_type": "stream",
     "text": [
      "\n"
     ]
    }
   ],
   "source": [
    "recursive_summary = summarize(text, detail=0.9, summarize_recursively=True)\n",
    "print(recursive_summary)"
   ]
  },
  {
   "cell_type": "markdown",
   "metadata": {},
   "source": [
    "## Recursive summarization with prompts"
   ]
  },
  {
   "cell_type": "code",
   "execution_count": 59,
   "metadata": {},
   "outputs": [
    {
     "name": "stderr",
     "output_type": "stream",
     "text": [
      "100%|██████████| 5/5 [00:41<00:00,  8.21s/it]"
     ]
    },
    {
     "name": "stdout",
     "output_type": "stream",
     "text": [
      "The Vitafy Healthcare system's Admin and Client portal allows for efficient management of both individual and group clients. Individual clients include single customers, families, or retail customers, while group clients consist of employers, companies, or associations. The system provides tools to manage client information, service details, memberships, and transactions.\n",
      "\n",
      "Key functionalities include:\n",
      "- Adding individual and group clients.\n",
      "- Managing dependents for primary members.\n",
      "- Viewing group members, billings, and cases.\n",
      "- Updating billing information.\n",
      "- Editing client details, approving or declining memberships, modifying membership terms, and handling other membership-related tasks.\n",
      "- Adding one-time transactions and sending agreements.\n",
      "- Managing client statuses, with new clients being \"Submitted\" by default and only charged upon approval.\n",
      "\n",
      "The process to add an individual client involves selecting the client type, filling out personal and contact details, choosing service offerings, and setting up billing and payment options. Files related to the client can be uploaded and managed through the system. Similarly, dependents can be added to a primary member by selecting the appropriate options and completing the required forms.\n",
      "\n",
      "The Vitafy Healthcare system's Admin and Client portal facilitates the management of group or company clients, which include a significant number of interconnected individuals utilizing the same services or products. To add a group, users navigate to the clients module, select the Group tab, and fill out an online form with group information, contact details, membership type, start date, and billing/payment options. Files related to the group can be uploaded and managed, and the group's client ID card can be accessed if enabled. Groups are marked as \"Submitted\" by default and are only charged upon approval, which can be done through the portal.\n",
      "\n",
      "To add members to an existing group, users go to the same Group tab, select the appropriate group, and add new members by filling out a similar form with personal, bundle, and billing details. These members are then visible under the group's expanded view.\n",
      "\n",
      "The portal also features a Client Quick View function, providing a snapshot of a client's enrollments, offerings, services, billing transactions, and ongoing cases. This view is accessible by clicking the \"+\" sign next to a client's name, showing details like recent transactions and the latest cases, with options to directly access specific cases.\n",
      "\n",
      "The Vitafy Healthcare system's Admin and Client portal allows for efficient management of client billing and membership details. Clients can update their billing information by accessing their profile through the clients module, switching to the billing tab, and selecting or modifying their payment method. The primary payment method will be the default for billing.\n",
      "\n",
      "Additional client functionalities are accessible under the ellipsis menu, including editing client profiles, approving or declining memberships, and modifying memberships. Editing a profile allows for changes in contact details, membership status updates, and file uploads. Membership approval triggers automatic transactions for approved clients, while declined clients receive a notification email. If approval occurs 7 days post-enrollment, the client is charged on the next payment date, requiring manual transaction addition for the first payment.\n",
      "\n",
      "Membership modifications are only available once a membership is approved, allowing for updates or additions to memberships, including changing start dates or switching between public/private bundles. These changes are confirmed through a series of selections in the modify membership section.\n",
      "\n",
      "The Vitafy Healthcare system's Admin and Client portal provides comprehensive tools for managing client memberships and transactions. Key functionalities include the ability to add or cancel memberships, change membership start or end dates, add one-time transactions, and send agreements for signatures. Clients can be categorized into various statuses such as Submitted, Approved, Canceled, Declined, Active, and Inactive, each reflecting different stages of the client's engagement with the services. For more complex actions like permanently deleting a client, contacting Vitafy support is required. This system allows for efficient and flexible client management tailored to the needs of both individual and group clients.\n",
      "\n",
      "The Vitafy Healthcare system's Admin and Client portal allows for efficient management of individual and group clients, offering functionalities such as adding clients, managing memberships, and handling transactions. Individual clients can be single customers or families, while group clients include employers and companies. The portal facilitates adding new clients, updating client details, managing billing information, and overseeing membership approvals and modifications. Additionally, it supports uploading files related to clients and groups, and provides a quick view of client details. The system also enables sending invites to clients to activate their accounts, which can be done through the clients module by selecting the appropriate client and using the \"Send Invite\" option. This feature is available only for clients with approved enrollments.\n"
     ]
    },
    {
     "name": "stderr",
     "output_type": "stream",
     "text": [
      "\n"
     ]
    }
   ],
   "source": [
    "recursive_summary = summarize(text, detail=0.9, additional_instructions=\"Summarize the key details of the Admin and Client portal of Vitafy Healthcare system.\", summarize_recursively=True)\n",
    "print(recursive_summary)"
   ]
  },
  {
   "cell_type": "code",
   "execution_count": 60,
   "metadata": {},
   "outputs": [
    {
     "name": "stderr",
     "output_type": "stream",
     "text": [
      "100%|██████████| 1/1 [00:08<00:00,  8.11s/it]"
     ]
    },
    {
     "name": "stdout",
     "output_type": "stream",
     "text": [
      "The Vitafy Healthcare system provides a comprehensive Clients Module designed to manage both individual and group clients efficiently. The module allows for the addition and management of individual clients, including families and retail customers, as well as groups such as employers and companies.\n",
      "\n",
      "Key functionalities include:\n",
      "- Adding and managing individual and group clients.\n",
      "- Overseeing client service and case information.\n",
      "- Approving or declining memberships and transactions.\n",
      "- Sending agreements and managing billing details.\n",
      "- Editing client details, modifying memberships, and updating billing information.\n",
      "- Adding dependents to primary members and members to groups.\n",
      "- Quick viewing of group members, dependents, billings, and cases.\n",
      "- Uploading and managing files related to clients.\n",
      "- Viewing client ID cards and managing client statuses, which include \"Submitted,\" \"Approved,\" \"Active,\" \"Inactive,\" \"Canceled,\" and \"Declined.\"\n",
      "\n",
      "The system also allows for the activation of client accounts, enabling clients to access their profiles and manage their information. Additional support and customization options are available through Vitafy support.\n"
     ]
    },
    {
     "name": "stderr",
     "output_type": "stream",
     "text": [
      "\n"
     ]
    }
   ],
   "source": [
    "recursive_summary = summarize(text, detail=0.1, additional_instructions=\"Summarize the key details of the Admin and Client portal of Vitafy Healthcare system.\", summarize_recursively=True)\n",
    "print(recursive_summary)"
   ]
  },
  {
   "cell_type": "code",
   "execution_count": 61,
   "metadata": {},
   "outputs": [
    {
     "name": "stderr",
     "output_type": "stream",
     "text": [
      "100%|██████████| 4/4 [00:45<00:00, 11.44s/it]"
     ]
    },
    {
     "name": "stdout",
     "output_type": "stream",
     "text": [
      "The Vitafy Healthcare system's Clients Module is designed to manage two main types of clients: Individuals and Groups. Individuals include single customers, families, or retail clients, while Groups consist of employers, companies, or associations. The system provides tools to manage client information, oversee service or case details, handle memberships, and conduct transactions. Users can add both individual clients and groups, along with dependents or group members, and manage various aspects such as billing, membership approvals, and document uploads.\n",
      "\n",
      "For individual clients, the process involves selecting the client type (Primary or Dependent), filling out necessary personal and contact details, and choosing service offerings and billing options. Similarly, adding a group involves inputting group details, selecting membership types, and setting up billing information. Both processes allow for the uploading and management of files and viewing of client ID cards if enabled. The system defaults client status to \"Submitted\" and charges are applied once approved. This streamlined approach ensures efficient management of client data and services within the Vitafy Healthcare system.\n",
      "\n",
      "The Vitafy Healthcare system offers a comprehensive client management portal that caters to both individual and group clients. The system allows for the addition and management of personal details, service bundles, billing information, and document uploads for both client types. Clients are initially set to a \"Submitted\" status and are only charged upon approval. The approval process is straightforward, involving selection from an ellipsis menu. Additionally, group members can be added by accessing the group tab, selecting the appropriate group, and filling out the required information in a form similar to that used for creating the group itself.\n",
      "\n",
      "The system also features a Client Quick View function, which provides a snapshot of a client's enrollments, billing transactions, and active cases, enhancing the ease of management and oversight. This function is accessible via a simple click on a plus sign next to the client's name. Furthermore, billing information can be updated through the client's profile, where multiple payment methods can be managed and set as primary.\n",
      "\n",
      "Additional functionalities within the client ellipsis menu include editing client profiles, approving or declining memberships, and modifying memberships once approved. These tools ensure flexible and efficient management of client details and memberships. The system also handles notifications, sending receipts and welcome emails upon approval, or explanatory emails if a membership is declined. If approval occurs seven days after enrollment, the client is not charged immediately but on the next scheduled payment date, requiring manual transaction addition for the first payment. This comprehensive system supports effective administration of healthcare services and client relationships in Vitafy's healthcare environment.\n",
      "\n",
      "The Vitafy Healthcare system provides a robust client management portal that allows for comprehensive handling of both individual and group memberships. Users can view active and past memberships, and have the flexibility to modify these by changing start dates or updating membership details. Adding a new membership involves navigating to the client's profile, selecting the modify option, and choosing from available membership bundles, which can be set as public or private. Similarly, existing memberships can be canceled or have their start and end dates adjusted as needed.\n",
      "\n",
      "The system also supports manual transactions for clients, sending agreements for signatures, and activating client accounts for login purposes. Clients can be invited to activate their accounts through the system, and if necessary, a second invite can be sent if the first is misplaced. The client statuses within the system include Submitted, Approved, Canceled, Declined, Active, and Inactive, each reflecting the current state of the client's engagement with the healthcare services.\n",
      "\n",
      "For any specific actions not directly accessible or for additional support, users are encouraged to contact Vitafy's support team. This comprehensive management system ensures that client relationships and memberships are handled efficiently, maintaining a high standard of service delivery within the Vitafy Healthcare environment.\n",
      "\n",
      "The Vitafy Healthcare system offers a detailed client management portal tailored for both individual and group clients, facilitating efficient handling of client information, service details, memberships, and transactions. For individual clients, the system allows the addition of primary or dependent members, requiring details such as personal information, service selections, and billing preferences. Group clients, encompassing employers and associations, are managed similarly with capabilities to add group details, membership types, and manage billing setups. Both client types can upload documents, view ID cards, and their status is set to \"Submitted\" upon entry, with charges applied post-approval.\n",
      "\n",
      "The portal also features a Client Quick View for easy access to a client’s enrollments, transactions, and cases, alongside functionalities to update billing information and manage payment methods. Users can modify client profiles, approve or decline memberships, and adjust membership details through an ellipsis menu, ensuring flexibility in client management. Notifications such as receipts and welcome emails are sent automatically upon membership approval, with manual transaction addition required if approval is delayed.\n",
      "\n",
      "Additionally, the system supports viewing and modifying active and past memberships, handling manual transactions, sending agreements for signatures, and activating client accounts for login purposes. Clients can only receive account invitations if their enrollment is approved. The system categorizes client statuses into various stages like Submitted, Approved, and Active, reflecting their engagement level. For further assistance, Vitafy’s support team is available, ensuring comprehensive support and maintenance of high service standards in client management within the healthcare environment.\n"
     ]
    },
    {
     "name": "stderr",
     "output_type": "stream",
     "text": [
      "\n"
     ]
    }
   ],
   "source": [
    "recursive_summary = summarize(text, detail=0.5, additional_instructions=\"Summarize the key details of the Admin and Client portal of Vitafy Healthcare system in paragraphs not in lists\", summarize_recursively=True)\n",
    "print(recursive_summary)"
   ]
  },
  {
   "cell_type": "code",
   "execution_count": 63,
   "metadata": {},
   "outputs": [
    {
     "name": "stderr",
     "output_type": "stream",
     "text": [
      "100%|██████████| 2/2 [00:11<00:00,  5.94s/it]"
     ]
    },
    {
     "name": "stdout",
     "output_type": "stream",
     "text": [
      "The Vitafy Healthcare system's Admin and Client portal allows efficient management of individual and group clients, including families, employers, and companies. Users can add and manage client information, such as service details, memberships, and transactions. The system supports adding individual clients and dependents, as well as groups and their members, with functionalities to approve or decline memberships, update billing, and send agreements. Each client type—primary, dependent, group, and group member—can be added through a form that captures essential details and payment information. Files can be uploaded and managed, and client status is tracked, with approvals required for activating accounts. The portal also offers a quick view for an overview of enrollments, services, and billing, enhancing the management of client relationships and administrative tasks.\n",
      "\n",
      "The Vitafy Healthcare system's Admin and Client portal offers a comprehensive suite of functionalities to manage client profiles and memberships effectively. Clients, whether individuals or groups, can be added and initially placed in a submitted status, requiring approval before any transactions can occur. The portal allows for the modification of client details, including contact information and billing details, and provides options to approve, decline, or modify memberships. Membership modifications include changing start and end dates, adding transactions manually, and sending agreements for signatures. Additionally, the system supports file uploads and provides a quick overview of client statuses, which range from submitted to active or inactive, depending on the client's current engagement level. For further assistance or missing functionalities, support is available via the provided contact email.\n"
     ]
    },
    {
     "name": "stderr",
     "output_type": "stream",
     "text": [
      "\n"
     ]
    }
   ],
   "source": [
    "recursive_summary = summarize(text, detail=0.3, additional_instructions=\"Summarize the key details of the Admin and Client portal of Vitafy Healthcare system in a paragraph\", summarize_recursively=True)\n",
    "print(recursive_summary)"
   ]
  },
  {
   "cell_type": "code",
   "execution_count": 64,
   "metadata": {},
   "outputs": [
    {
     "name": "stderr",
     "output_type": "stream",
     "text": [
      "100%|██████████| 1/1 [00:07<00:00,  7.81s/it]"
     ]
    },
    {
     "name": "stdout",
     "output_type": "stream",
     "text": [
      "The Vitafy Healthcare system's Admin and Client portal allows efficient management of individual and group clients, including families, employers, and companies. The system facilitates the addition of individual clients and groups, managing dependents, and overseeing memberships and transactions. Users can update client information, approve or decline memberships, modify membership details, and handle billing and payments. The portal also supports sending agreements, adding one-time transactions, and uploading necessary files. Client statuses such as \"Submitted,\" \"Approved,\" \"Active,\" and \"Inactive\" help track the progress and current state of each client. Additional functionalities include viewing client ID cards, quick access to client details, and the ability to send invites for account activation. The system is designed to streamline the administrative tasks associated with managing healthcare services and memberships, ensuring a smooth operation and client management process.\n"
     ]
    },
    {
     "name": "stderr",
     "output_type": "stream",
     "text": [
      "\n"
     ]
    }
   ],
   "source": [
    "recursive_summary = summarize(text, detail=0.1, additional_instructions=\"Summarize the key details of the Admin and Client portal of Vitafy Healthcare system in a paragraph\", summarize_recursively=True)\n",
    "print(recursive_summary)"
   ]
  },
  {
   "cell_type": "markdown",
   "metadata": {},
   "source": [
    "## Combining Pinecone & OpenAI model"
   ]
  },
  {
   "cell_type": "code",
   "execution_count": 100,
   "metadata": {},
   "outputs": [
    {
     "name": "stderr",
     "output_type": "stream",
     "text": [
      "/Users/user/.pyenv/versions/3.12.3/lib/python3.12/site-packages/langchain_openai/chat_models/base.py:357: UserWarning: Unexpected type for token usage: <class 'NoneType'>\n",
      "  warnings.warn(f\"Unexpected type for token usage: {type(new_usage)}\")\n"
     ]
    },
    {
     "name": "stdout",
     "output_type": "stream",
     "text": [
      "The system allows for the uploading, downloading, renaming, and viewing of files. Client ID cards can be viewed in the ID tab if enabled. Clients are initially marked as \"Submitted\" and will only be charged once approved. Dependents can be added to primary clients, who are individuals connected through family ties or association. The client details can be viewed by clicking on the + sign on the left-hand side, showing membership, billing, and cases information. The system also allows for setting up groups or companies, editing client profiles, updating billing details, and uploading files.\n"
     ]
    }
   ],
   "source": [
    "summary = chain.run(input_documents=search, detail=0.1, question=\"Summarize the key details of the Admin and Client portal of Vitafy Healthcare system in a paragraph.\", summarize_recursively = True)\n",
    "print(summary)"
   ]
  },
  {
   "cell_type": "markdown",
   "metadata": {},
   "source": [
    "## Tracking token & cost usage \n"
   ]
  },
  {
   "cell_type": "code",
   "execution_count": 108,
   "metadata": {},
   "outputs": [
    {
     "name": "stderr",
     "output_type": "stream",
     "text": [
      "/Users/user/.pyenv/versions/3.12.3/lib/python3.12/site-packages/langchain_openai/chat_models/base.py:357: UserWarning: Unexpected type for token usage: <class 'NoneType'>\n",
      "  warnings.warn(f\"Unexpected type for token usage: {type(new_usage)}\")\n"
     ]
    },
    {
     "name": "stdout",
     "output_type": "stream",
     "text": [
      "The system allows users to upload, download, rename, and view files. Client ID cards can be viewed in the ID tab if enabled. Clients are initially marked as \"Submitted\" and will only be charged once approved. Dependents can be added to primary clients. Client details can be viewed by clicking on the + sign. The system also allows for setting up groups or companies by filling out an online form. Client Ellipsis functions provide additional functionalities for editing profile information, viewing membership status, updating billing details, and uploading files. Tokens Used: 1012\n",
      "\tPrompt Tokens: 690\n",
      "\tCompletion Tokens: 322\n",
      "Successful Requests: 5\n",
      "Total Cost (USD): $0.000828\n"
     ]
    }
   ],
   "source": [
    "from langchain_community.callbacks import get_openai_callback\n",
    "\n",
    "with get_openai_callback() as cb:\n",
    "    summary = chain.run(input_documents=search, detail=1, question=\"Summarize the key details of the Admin and Client portal of Vitafy Healthcare system in a paragraph.\", summarize_recursively = True)\n",
    "print(summary, cb)\n"
   ]
  },
  {
   "cell_type": "code",
   "execution_count": null,
   "metadata": {},
   "outputs": [],
   "source": [
    "🦜️🏓 LangServe"
   ]
  }
 ],
 "metadata": {
  "kernelspec": {
   "display_name": "Python 3",
   "language": "python",
   "name": "python3"
  },
  "language_info": {
   "codemirror_mode": {
    "name": "ipython",
    "version": 3
   },
   "file_extension": ".py",
   "mimetype": "text/x-python",
   "name": "python",
   "nbconvert_exporter": "python",
   "pygments_lexer": "ipython3",
   "version": "3.12.3"
  }
 },
 "nbformat": 4,
 "nbformat_minor": 2
}
